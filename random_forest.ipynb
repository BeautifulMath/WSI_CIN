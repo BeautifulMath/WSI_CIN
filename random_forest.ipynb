{
 "cells": [
  {
   "cell_type": "code",
   "execution_count": 1,
   "metadata": {},
   "outputs": [],
   "source": [
    "## Reference: scikit-learn RandomForestClassifier\n",
    "\n",
    "import pandas as pd, numpy as np\n",
    "from sklearn.ensemble import RandomForestClassifier\n",
    "from sklearn.metrics import accuracy_score,roc_auc_score\n",
    "from sklearn.model_selection import GridSearchCV"
   ]
  },
  {
   "cell_type": "code",
   "execution_count": 2,
   "metadata": {},
   "outputs": [],
   "source": [
    "feature_df = pd.read_csv('./slide_level_features/CRC_nucleus_morphology.csv')\n",
    "label_df = pd.read_csv('./slide_level_features/CRC_AS_labels.csv')\n",
    "concat_df = pd.concat([label_df, feature_df], axis=1)\n",
    "concat_df = concat_df.dropna(axis=0, subset=['AS'])\n",
    "concat_df.reset_index(drop=True, inplace=True)"
   ]
  },
  {
   "cell_type": "code",
   "execution_count": 3,
   "metadata": {},
   "outputs": [],
   "source": [
    "X = concat_df.iloc[:, -30:] # morphologic features\n",
    "concat_df['AS_label'] = np.where(concat_df[\"AS\"]>10, 1,0)\n",
    "y = concat_df['AS_label']"
   ]
  },
  {
   "cell_type": "code",
   "execution_count": 4,
   "metadata": {},
   "outputs": [],
   "source": [
    "params = {\n",
    "    'max_depth': [2,3,5,10,20],\n",
    "    'min_samples_leaf': [5,10,20,50,100,200],\n",
    "    'n_estimators': [10,25,30,50,100,200]\n",
    "}"
   ]
  },
  {
   "cell_type": "code",
   "execution_count": 5,
   "metadata": {},
   "outputs": [
    {
     "name": "stdout",
     "output_type": "stream",
     "text": [
      "--------------------1 KFold-------------------\n",
      "train_idx_len : 252 / test_idx_len : 63\n",
      "Fitting 4 folds for each of 180 candidates, totalling 720 fits\n",
      "Mean accuracy score: 0.714\n",
      "AUC:0.8035343035343037\n",
      "--------------------2 KFold-------------------\n",
      "train_idx_len : 252 / test_idx_len : 63\n",
      "Fitting 4 folds for each of 180 candidates, totalling 720 fits\n",
      "Mean accuracy score: 0.667\n",
      "AUC:0.6403326403326404\n",
      "--------------------3 KFold-------------------\n",
      "train_idx_len : 252 / test_idx_len : 63\n",
      "Fitting 4 folds for each of 180 candidates, totalling 720 fits\n",
      "Mean accuracy score: 0.698\n",
      "AUC:0.7640332640332641\n",
      "--------------------4 KFold-------------------\n",
      "train_idx_len : 252 / test_idx_len : 63\n",
      "Fitting 4 folds for each of 180 candidates, totalling 720 fits\n",
      "Mean accuracy score: 0.571\n",
      "AUC:0.6358024691358025\n",
      "--------------------5 KFold-------------------\n",
      "train_idx_len : 252 / test_idx_len : 63\n",
      "Fitting 4 folds for each of 180 candidates, totalling 720 fits\n",
      "Mean accuracy score: 0.619\n",
      "AUC:0.6707818930041152\n"
     ]
    }
   ],
   "source": [
    "for n_iter in range(1,6):\n",
    "    train_idx = np.load(\"./MLP/5_fold_split/AS_train_idx_fold_{}.npy\".format(n_iter))\n",
    "    test_idx = np.load(\"./MLP/5_fold_split/AS_test_idx_fold_{}.npy\".format(n_iter))\n",
    "\n",
    "    print(f'--------------------{n_iter} KFold-------------------')\n",
    "    print(f'train_idx_len : {len(train_idx)} / test_idx_len : {len(test_idx)}')\n",
    "\n",
    "    X_train, X_test = X.iloc[train_idx, :], X.iloc[test_idx, :]\n",
    "    y_train, y_test = y.iloc[train_idx], y.iloc[test_idx]\n",
    "    rf = RandomForestClassifier(random_state=42, n_jobs=-1)\n",
    "    grid_search = GridSearchCV(estimator=rf,\n",
    "                            param_grid=params,\n",
    "                            cv = 4,\n",
    "                            n_jobs=-1, verbose=1, scoring=\"roc_auc\")\n",
    "    grid_search.fit(X_train, y_train)\n",
    "    rf_best = grid_search.best_estimator_\n",
    "    rf_best.fit(X_train, y_train)\n",
    "    predicted = rf_best.predict(X_test)\n",
    "    pred_proba = rf_best.predict_proba(X_test)\n",
    "    accuracy = accuracy_score(y_test, predicted)\n",
    "    print(f'Mean accuracy score: {accuracy:.3}')\n",
    "    print(f'AUC:{roc_auc_score(y_test, pred_proba[:,1])}')\n",
    "    if n_iter==1:\n",
    "        feat_imp = rf_best.feature_importances_\n",
    "    else:\n",
    "        feat_imp = feat_imp + rf_best.feature_importances_"
   ]
  },
  {
   "cell_type": "code",
   "execution_count": 6,
   "metadata": {},
   "outputs": [
    {
     "data": {
      "text/html": [
       "<div>\n",
       "<style scoped>\n",
       "    .dataframe tbody tr th:only-of-type {\n",
       "        vertical-align: middle;\n",
       "    }\n",
       "\n",
       "    .dataframe tbody tr th {\n",
       "        vertical-align: top;\n",
       "    }\n",
       "\n",
       "    .dataframe thead th {\n",
       "        text-align: right;\n",
       "    }\n",
       "</style>\n",
       "<table border=\"1\" class=\"dataframe\">\n",
       "  <thead>\n",
       "    <tr style=\"text-align: right;\">\n",
       "      <th></th>\n",
       "      <th>Varname</th>\n",
       "      <th>Imp</th>\n",
       "    </tr>\n",
       "  </thead>\n",
       "  <tbody>\n",
       "    <tr>\n",
       "      <th>15</th>\n",
       "      <td>area_sd</td>\n",
       "      <td>0.151633</td>\n",
       "    </tr>\n",
       "    <tr>\n",
       "      <th>17</th>\n",
       "      <td>minor_axis_length_sd</td>\n",
       "      <td>0.089840</td>\n",
       "    </tr>\n",
       "    <tr>\n",
       "      <th>16</th>\n",
       "      <td>major_axis_length_sd</td>\n",
       "      <td>0.079032</td>\n",
       "    </tr>\n",
       "    <tr>\n",
       "      <th>10</th>\n",
       "      <td>int_s_sd_mean</td>\n",
       "      <td>0.050044</td>\n",
       "    </tr>\n",
       "    <tr>\n",
       "      <th>18</th>\n",
       "      <td>perimeter_sd</td>\n",
       "      <td>0.049786</td>\n",
       "    </tr>\n",
       "    <tr>\n",
       "      <th>0</th>\n",
       "      <td>area_mean</td>\n",
       "      <td>0.049052</td>\n",
       "    </tr>\n",
       "    <tr>\n",
       "      <th>8</th>\n",
       "      <td>int_gray_sd_mean</td>\n",
       "      <td>0.036619</td>\n",
       "    </tr>\n",
       "    <tr>\n",
       "      <th>1</th>\n",
       "      <td>major_axis_length_mean</td>\n",
       "      <td>0.036289</td>\n",
       "    </tr>\n",
       "    <tr>\n",
       "      <th>4</th>\n",
       "      <td>circularity_mean</td>\n",
       "      <td>0.036273</td>\n",
       "    </tr>\n",
       "    <tr>\n",
       "      <th>24</th>\n",
       "      <td>int_s_mean_sd</td>\n",
       "      <td>0.032390</td>\n",
       "    </tr>\n",
       "  </tbody>\n",
       "</table>\n",
       "</div>"
      ],
      "text/plain": [
       "                   Varname       Imp\n",
       "15                 area_sd  0.151633\n",
       "17    minor_axis_length_sd  0.089840\n",
       "16    major_axis_length_sd  0.079032\n",
       "10           int_s_sd_mean  0.050044\n",
       "18            perimeter_sd  0.049786\n",
       "0                area_mean  0.049052\n",
       "8         int_gray_sd_mean  0.036619\n",
       "1   major_axis_length_mean  0.036289\n",
       "4         circularity_mean  0.036273\n",
       "24           int_s_mean_sd  0.032390"
      ]
     },
     "execution_count": 6,
     "metadata": {},
     "output_type": "execute_result"
    }
   ],
   "source": [
    "imp_df = pd.DataFrame({\n",
    "    \"Varname\": X_train.columns,\n",
    "    \"Imp\": feat_imp /5\n",
    "})\n",
    "imp_df.sort_values(by=\"Imp\", ascending=False)[:10]"
   ]
  }
 ],
 "metadata": {
  "kernelspec": {
   "display_name": "Python 3",
   "language": "python",
   "name": "python3"
  },
  "language_info": {
   "codemirror_mode": {
    "name": "ipython",
    "version": 3
   },
   "file_extension": ".py",
   "mimetype": "text/x-python",
   "name": "python",
   "nbconvert_exporter": "python",
   "pygments_lexer": "ipython3",
   "version": "3.8.10"
  }
 },
 "nbformat": 4,
 "nbformat_minor": 2
}
